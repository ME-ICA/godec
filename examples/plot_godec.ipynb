{
 "cells": [
  {
   "cell_type": "code",
   "execution_count": null,
   "metadata": {},
   "outputs": [],
   "source": [
    "%matplotlib inline\n",
    "import os.path as op\n",
    "import matplotlib.pyplot as plt\n",
    "\n",
    "import numpy as np\n",
    "from scipy import stats\n",
    "from nilearn import image, masking, plotting\n",
    "import pandas as pd\n",
    "\n",
    "import godec\n",
    "from godec.tests.utils import get_test_data_path"
   ]
  },
  {
   "cell_type": "code",
   "execution_count": null,
   "metadata": {},
   "outputs": [],
   "source": [
    "in_dir = get_test_data_path()\n",
    "in_file = op.join(in_dir, \"sub-04570_task-rest_echo-2_space-scanner_desc-partialPreproc_res-5mm_bold.nii.gz\")\n",
    "mask = op.join(in_dir, \"sub-04570_task-rest_space-scanner_desc-brain_res-5mm_mask.nii.gz\")"
   ]
  },
  {
   "cell_type": "code",
   "execution_count": null,
   "metadata": {},
   "outputs": [],
   "source": [
    "data = masking.apply_mask(in_file, mask)"
   ]
  },
  {
   "cell_type": "markdown",
   "metadata": {},
   "source": [
    "# Standard GoDec"
   ]
  },
  {
   "cell_type": "code",
   "execution_count": null,
   "metadata": {},
   "outputs": [],
   "source": [
    "lowrank, sparse, error = godec.standard_godec(data, rank=4)\n",
    "lowrank = masking.unmask(lowrank, mask)\n",
    "sparse = masking.unmask(sparse, mask)\n",
    "error = masking.unmask(error, mask)\n",
    "\n",
    "imgs = {\n",
    "    \"Original Data\": in_file,\n",
    "    \"Low-Rank Components\": lowrank,\n",
    "    \"Sparse Components\": sparse,\n",
    "}"
   ]
  },
  {
   "cell_type": "code",
   "execution_count": null,
   "metadata": {},
   "outputs": [],
   "source": [
    "fig, axes = plt.subplots(figsize=(16, 16), nrows=3)\n",
    "\n",
    "for i, (name, img) in enumerate(imgs.items()):\n",
    "    plotting.plot_carpet(img, mask_img=mask, axes=axes[i], figure=fig)\n",
    "    axes[i].set_title(name, fontsize=16)\n",
    "\n",
    "axes[0].set_xticklabels([])\n",
    "axes[1].set_xticklabels([])\n",
    "axes[0].set_xticks([])\n",
    "axes[1].set_xticks([])\n",
    "axes[0].set_xlabel(None)\n",
    "axes[1].set_xlabel(None)\n",
    "axes[0].spines[\"bottom\"].set_visible(False)\n",
    "axes[1].spines[\"bottom\"].set_visible(False)\n",
    "\n",
    "fig.suptitle(\"Standard GODEC\", fontsize=20)\n",
    "fig.tight_layout()\n",
    "fig.show()"
   ]
  },
  {
   "cell_type": "markdown",
   "metadata": {},
   "source": [
    "# Greedy Semi-Soft GoDec"
   ]
  },
  {
   "cell_type": "code",
   "execution_count": null,
   "metadata": {},
   "outputs": [],
   "source": [
    "out = godec.greedy_semisoft_godec(data, ranks=[4])\n",
    "lowrank, sparse, error = out[4]\n",
    "lowrank = masking.unmask(lowrank, mask)\n",
    "sparse = masking.unmask(sparse, mask)\n",
    "error = masking.unmask(error, mask)\n",
    "\n",
    "imgs = {\n",
    "    \"Original Data\": in_file,\n",
    "    \"Low-Rank Components\": lowrank,\n",
    "    \"Sparse Components\": sparse,\n",
    "}"
   ]
  },
  {
   "cell_type": "code",
   "execution_count": null,
   "metadata": {
    "scrolled": false
   },
   "outputs": [],
   "source": [
    "fig, axes = plt.subplots(figsize=(16, 16), nrows=3)\n",
    "\n",
    "for i, (name, img) in enumerate(imgs.items()):\n",
    "    plotting.plot_carpet(img, mask_img=mask, axes=axes[i], figure=fig)\n",
    "    axes[i].set_title(name, fontsize=16)\n",
    "\n",
    "axes[0].set_xticklabels([])\n",
    "axes[1].set_xticklabels([])\n",
    "axes[0].set_xticks([])\n",
    "axes[1].set_xticks([])\n",
    "axes[0].set_xlabel(None)\n",
    "axes[1].set_xlabel(None)\n",
    "axes[0].spines[\"bottom\"].set_visible(False)\n",
    "axes[1].spines[\"bottom\"].set_visible(False)\n",
    "\n",
    "fig.suptitle(\"Greedy Semi-Soft GODEC\", fontsize=20)\n",
    "fig.tight_layout()\n",
    "fig.show()"
   ]
  },
  {
   "cell_type": "code",
   "execution_count": null,
   "metadata": {},
   "outputs": [],
   "source": []
  }
 ],
 "metadata": {
  "kernelspec": {
   "display_name": "Python 3",
   "language": "python",
   "name": "python3"
  },
  "language_info": {
   "codemirror_mode": {
    "name": "ipython",
    "version": 3
   },
   "file_extension": ".py",
   "mimetype": "text/x-python",
   "name": "python",
   "nbconvert_exporter": "python",
   "pygments_lexer": "ipython3",
   "version": "3.8.5"
  }
 },
 "nbformat": 4,
 "nbformat_minor": 4
}
